{
 "cells": [
  {
   "cell_type": "code",
   "execution_count": 1,
   "metadata": {
    "id": "Bl6osfoCpyBI"
   },
   "outputs": [],
   "source": [
    "# ACKNOWLEDGEMENTS:\n",
    "# Code copied and modified (MIT License) from \n",
    "# (https://github.com/JanZrimec/DeepExpression/blob/master/scripts/Chapter_3_1.ipynb)\n",
    "# Original author: Jan Zrimec (https://github.com/JanZrimec)\n",
    "\n",
    "import numpy as np\n",
    "import pandas as pd\n",
    "\n",
    "from scipy import stats, special, spatial\n",
    "\n",
    "import matplotlib.pyplot as plt\n",
    "import seaborn as sns\n",
    "\n",
    "from matplotlib.lines import Line2D\n",
    "import matplotlib as mpl\n",
    "mpl.rcParams['figure.dpi'] = 300\n",
    "\n",
    "import importlib.util\n",
    "import os\n",
    "\n",
    "import warnings\n",
    "warnings.filterwarnings('ignore')\n",
    "\n",
    "#s.environ[\"CUDA_DEVICE_ORDER\"]=\"PCI_BUS_ID\"   # see issue #152\n",
    "os.environ[\"CUDA_VISIBLE_DEVICES\"]=\"1\""
   ]
  },
  {
   "cell_type": "code",
   "execution_count": 2,
   "metadata": {
    "id": "tq0siAb0p6gy"
   },
   "outputs": [],
   "source": [
    "## datasets\n",
    "folder = '../data/'\n",
    "\n",
    "# Data\n",
    "fn1 = 'scerevisiae_tpm_full_cut5.csv'\n",
    "fn2 = 'scerevisiae_accessions.tsv'\n",
    "fn3 = 'scerevisiae.rsd1.lmbda_22.npz'\n",
    "fn4 = 'Saccharomyces_cerevisiae.R64-1-1.regions.csv'\n",
    "\n",
    "fn5 = 'organisms_deep_results.csv'\n",
    "\n",
    "fname_data1 = folder+'scerevisiae.rsd1.lmbda_22.npz'\n",
    "fname_module1 = folder+'Model_C3F2all.py'\n",
    "fname_p1 = folder+'scerevisiae_good_rsd1_lmbda22_Model_C3F2all_1234_c008090fd8e4b9971fe71eed502c9f7b_best.p'\n",
    "fname_weights1 = folder+'scerevisiae_good_rsd1_lmbda22_Model_C3F2all_1234_c008090fd8e4b9971fe71eed502c9f7b_best'\n",
    "\n",
    "fn6 = 'df_Keren2013_predictions.csv'\n",
    "fn7 = 'df_Yamanishi2013_predictions.csv'\n"
   ]
  },
  {
   "cell_type": "code",
   "execution_count": 3,
   "metadata": {
    "id": "wafj_8W4p-vw"
   },
   "outputs": [],
   "source": [
    "def load_data(fname):\n",
    "    # X is multi-variable array\n",
    "    # Y contains single variable - fix shape for Keras\n",
    "\n",
    "    npzfile = np.load(fname,allow_pickle=True)\n",
    "    Xh_train = npzfile['arr_0']\n",
    "    Xh_test = npzfile['arr_1']\n",
    "    Xv_train = npzfile['arr_2'][:,8:]\n",
    "    Xv_test = npzfile['arr_3'][:,8:]\n",
    "    Y_train = npzfile['arr_4']\n",
    "    Y_test = npzfile['arr_5']\n",
    "    names_train = npzfile['arr_6']\n",
    "    names_test = npzfile['arr_7']\n",
    "\n",
    "    X_train = list()\n",
    "    X_train.append(Xh_train)\n",
    "    #X_train.append(Xv_train)\n",
    "    X_test = list()\n",
    "    X_test.append(Xh_test)\n",
    "    #X_test.append(Xv_test)\n",
    "\n",
    "    Y_train = Y_train.astype(np.float32).reshape((-1,))\n",
    "    Y_test = Y_test.astype(np.float32).reshape((-1,))\n",
    "\n",
    "    return (np.concatenate((Y_train, Y_test)),\n",
    "            np.concatenate((names_train,names_test)),\n",
    "            np.concatenate((Xv_train,Xv_test)))\n",
    "\n",
    "# load modules - POC model\n",
    "def load_module(model_path):\n",
    "    '''loads module containing models given path'''\n",
    "    spec = importlib.util.spec_from_file_location('module',model_path)\n",
    "    module = importlib.util.module_from_spec(spec)\n",
    "    spec.loader.exec_module(module)\n",
    "    return module\n"
   ]
  },
  {
   "cell_type": "code",
   "execution_count": 4,
   "metadata": {
    "id": "L2jTCflmqQY4"
   },
   "outputs": [
    {
     "name": "stdout",
     "output_type": "stream",
     "text": [
      "(42,)\n",
      "2\n",
      "425\n",
      "Loading model 1 from disk..\n"
     ]
    }
   ],
   "source": [
    "## load data and model\n",
    "\n",
    "module = load_module(fname_module1)\n",
    "\n",
    "# load p\n",
    "p = pd.read_csv(fname_p1,sep=';')\n",
    "p = p.iloc[0]\n",
    "p.drop(['path','overfit'],inplace=True)\n",
    "print(p.shape)\n",
    "\n",
    "# load data\n",
    "X_train, X_test, Y_train, Y_test = module.load_data(fname_data1)\n",
    "# Y = np.concatenate((Y_train, Y_test))\n",
    "# X = np.concatenate((X_train[0], X_test[0]))\n",
    "print(len(X_test))\n",
    "print(len(Y_test))\n",
    "\n",
    "# model\n",
    "input_shapes = [sl.shape[1:] for sl in X_train]\n",
    "model = module.POC_model(input_shapes, p)\n",
    "# set weights model 1\n",
    "print(\"Loading model 1 from disk..\")\n",
    "model.load_weights(fname_weights1)\n"
   ]
  },
  {
   "cell_type": "code",
   "execution_count": 5,
   "metadata": {
    "id": "cHDkHAyvqSCA"
   },
   "outputs": [],
   "source": [
    "# predict Ypred\n",
    "\n",
    "# Y_pred = model.predict(X_test)"
   ]
  },
  {
   "cell_type": "code",
   "execution_count": 7,
   "metadata": {},
   "outputs": [
    {
     "name": "stdout",
     "output_type": "stream",
     "text": [
      "Predictions generated and saved for: Bimuria_novae_zelandiae_cbs_107_79_gca_010015655.Bimnz1.npz\n",
      "Predictions generated and saved for: Lentithecium_fluviatile_cbs_122367_gca_010405425.Lenfl1.npz\n",
      "Predictions generated and saved for: Ascobolus_immersus_rn42_gca_003788565.Ascim1.npz\n",
      "Predictions generated and saved for: Sphaerosporella_brunnea_gca_008704415.Sphbr2.npz\n",
      "Predictions generated and saved for: Aspergillus_avenaceus_gca_009193465.Aspave1.npz\n",
      "Predictions generated and saved for: Aspergillus_coremiiformis_gca_009193565.Aspcor1.npz\n",
      "Predictions generated and saved for: Westerdykella_ornata_gca_010094085.Wesor1.npz\n",
      "Predictions generated and saved for: Aspergillus_niger_atcc_13496_gca_003344705.Aspni_bvT_1.npz\n",
      "Predictions generated and saved for: Choiromyces_venosus_120613_1_gca_003788595.Chove1.npz\n",
      "Predictions generated and saved for: Aspergillus_costaricaensis_cbs_115574_gca_003184835.Aspcos1.npz\n",
      "Predictions generated and saved for: Viridothelium_virens_gca_010094025.Tryvi1.npz\n",
      "Predictions generated and saved for: Melanomma_pulvis_pyrius_cbs_109_77_gca_010093585.Melpu1.npz\n",
      "Predictions generated and saved for: Teratosphaeria_nubilosa_gca_010093825.Ternu1.npz\n",
      "Predictions generated and saved for: Terfezia_boudieri_atcc_mya_4762_gca_003788615.Terbo2.npz\n",
      "Predictions generated and saved for: Aspergillus_bertholletiae_gca_009193595.Aspber1.npz\n",
      "Predictions generated and saved for: Amniculicola_lignicola_cbs_123094_gca_010015725.Amnli1.npz\n",
      "Predictions generated and saved for: Aspergillus_arachidicola_gca_009193545.Aspara19utr.npz\n",
      "Predictions generated and saved for: Aulographum_hederae_cbs_113979_gca_010015705.Aulhe2.npz\n",
      "Predictions generated and saved for: Aspergillus_fijiensis_cbs_313_89_gca_003184825.Aspfij1.npz\n",
      "Predictions generated and saved for: Microthyrium_microscopicum_gca_010405405.Micmi1.npz\n",
      "Predictions generated and saved for: Lophiotrema_nucula_gca_010015825.Lopnu1.npz\n",
      "Predictions generated and saved for: Aspergillus_pseudocaelatus_gca_009193665.Asppsec1.npz\n",
      "Predictions generated and saved for: Aspergillus_phoenicis_atcc_13157_gca_003344505.Aspph1.npz\n",
      "Predictions generated and saved for: Aspergillus_caelatus_gca_009193585.Aspcae1.npz\n",
      "Predictions generated and saved for: Lineolata_rhizophorae_gca_010093515.Linrh1.npz\n",
      "Predictions generated and saved for: Yarrowia_lipolytica_gca_003367845.YarliYB567.npz\n",
      "Predictions generated and saved for: Aspergillus_sergii_gca_009193525.Aspser1.npz\n",
      "Predictions generated and saved for: Ophiobolus_disseminans_gca_010093685.Ophdi1.npz\n",
      "Predictions generated and saved for: Plenodomus_tracheiphilus_ipt5_gca_010093695.Photr1.npz\n",
      "Predictions generated and saved for: Decorospora_gaudefroyi_gca_010015605.Decga1.npz\n",
      "Predictions generated and saved for: Aspergillus_leporis_gca_009176345.Asplep1.npz\n",
      "Predictions generated and saved for: Aspergillus_ibericus_cbs_121593_gca_003184845.Aspibe1.npz\n",
      "Predictions generated and saved for: Aspergillus_pseudonomius_gca_009193645.Asppsen1.npz\n",
      "Predictions generated and saved for: Lepidopterella_palustris_cbs_459_81_gca_001692735.Leppa1.npz\n",
      "Predictions generated and saved for: Aspergillus_minisclerotigenes_gca_009176455.Aspmin1.npz\n",
      "Predictions generated and saved for: Aspergillus_alliaceus_gca_009193605.Aspalbe1.npz\n",
      "Predictions generated and saved for: Yarrowia_lipolytica_gca_003367945.YarliYB566.npz\n",
      "Predictions generated and saved for: Ampelomyces_quisqualis_gca_010094095.Ampqui1.npz\n",
      "Predictions generated and saved for: Morchella_conica_ccbas932_gca_003790465.Morco1.npz\n",
      "Predictions generated and saved for: Ascodesmis_nigricans_gca_004786065.Ascni1.npz\n",
      "Predictions generated and saved for: Aaosphaeria_arxii_cbs_175_79_gca_010015735.Aaoar1.npz\n",
      "Predictions generated and saved for: Sporormia_fimetaria_cbs_119925_gca_010093795.Spofi1.npz\n",
      "Predictions generated and saved for: Neohortaea_acidophila_gca_010093505.Horac1.npz\n",
      "Predictions generated and saved for: Byssochlamys_spectabilis_gca_004022145.Paevar1.npz\n",
      "Predictions generated and saved for: Byssothecium_circinans_gca_010015675.Bysci1.npz\n",
      "Predictions generated and saved for: Aspergillus_pseudotamarii_gca_009193445.Asppset1.npz\n",
      "Predictions generated and saved for: Aspergillus_alliaceus_gca_009176365.Aspalli1.npz\n",
      "Predictions generated and saved for: Aspergillus_homomorphus_cbs_101889_gca_003184865.Asphom1.npz\n",
      "Predictions generated and saved for: Yarrowia_lipolytica_gca_003367965.YarliYB420.npz\n",
      "Predictions generated and saved for: Clathrospora_elynae_gca_010015635.Clael1.npz\n",
      "Predictions generated and saved for: Aspergillus_novoparasiticus_gca_009176405.Aspnovo1.npz\n",
      "Predictions generated and saved for: Trichodelitschia_bisporula_gca_010356995.Tribi1.npz\n"
     ]
    }
   ],
   "source": [
    "fpath_npz_directory = \"/home/andy/new-results/inputs/npz_files/\"\n",
    "fpath_output_directory = \"/home/andy/predictions/\"\n",
    "\n",
    "for filename in os.listdir(fpath_npz_directory):\n",
    "    working_npz = np.load(fpath_npz_directory + filename, allow_pickle=True)\n",
    "    X_hot = working_npz[\"x_hot\"]\n",
    "    X_var = working_npz[\"x_var\"]\n",
    "\n",
    "    current_input = list()\n",
    "    current_input.append(X_hot)\n",
    "    current_input.append(X_var)\n",
    "\n",
    "    current_predictions = model.predict(current_input)\n",
    "\n",
    "    rename = filename.replace(\".npz\", \".predict.npy\")\n",
    "    output_filename = fpath_output_directory + rename\n",
    "    np.save(output_filename, current_predictions)\n",
    "    print(\"Predictions generated and saved for: \" + filename)\n"
   ]
  }
 ],
 "metadata": {
  "colab": {
   "authorship_tag": "ABX9TyMcteIZJs7Z/Ow7ocps9eOk",
   "provenance": []
  },
  "kernelspec": {
   "display_name": "py36_deepexp",
   "language": "python",
   "name": "py36_deepexp"
  },
  "language_info": {
   "codemirror_mode": {
    "name": "ipython",
    "version": 3
   },
   "file_extension": ".py",
   "mimetype": "text/x-python",
   "name": "python",
   "nbconvert_exporter": "python",
   "pygments_lexer": "ipython3",
   "version": "3.6.7"
  }
 },
 "nbformat": 4,
 "nbformat_minor": 4
}
