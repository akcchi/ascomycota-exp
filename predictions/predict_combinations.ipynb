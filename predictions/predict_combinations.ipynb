{
 "cells": [
  {
   "cell_type": "code",
   "execution_count": 3,
   "id": "cbedbc94-7752-4e85-868f-bf53314a9b1b",
   "metadata": {},
   "outputs": [],
   "source": [
    "# ACKNOWLEDGEMENTS:\n",
    "# Code copied and modified (MIT License) from \n",
    "# (https://github.com/JanZrimec/DeepExpression/blob/master/scripts/Chapter_3_1.ipynb)\n",
    "# Original author: Jan Zrimec (https://github.com/JanZrimec)\n",
    "\n",
    "import numpy as np\n",
    "import pandas as pd\n",
    "\n",
    "from scipy import stats, special, spatial\n",
    "\n",
    "import matplotlib.pyplot as plt\n",
    "import seaborn as sns\n",
    "\n",
    "from matplotlib.lines import Line2D\n",
    "import matplotlib as mpl\n",
    "mpl.rcParams['figure.dpi'] = 300\n",
    "\n",
    "import importlib.util\n",
    "import os\n",
    "\n",
    "import warnings\n",
    "warnings.filterwarnings('ignore')\n",
    "\n",
    "#s.environ[\"CUDA_DEVICE_ORDER\"]=\"PCI_BUS_ID\"   # see issue #152\n",
    "os.environ[\"CUDA_VISIBLE_DEVICES\"]=\"1\""
   ]
  },
  {
   "cell_type": "code",
   "execution_count": 4,
   "id": "f61900b3-5658-4c9a-a32f-a1958c70dc8d",
   "metadata": {},
   "outputs": [],
   "source": [
    "## datasets\n",
    "folder = '../data/'\n",
    "\n",
    "# Data\n",
    "fn1 = 'scerevisiae_tpm_full_cut5.csv'\n",
    "fn2 = 'scerevisiae_accessions.tsv'\n",
    "fn3 = 'scerevisiae.rsd1.lmbda_22.npz'\n",
    "fn4 = 'Saccharomyces_cerevisiae.R64-1-1.regions.csv'\n",
    "\n",
    "fn5 = 'organisms_deep_results.csv'\n",
    "\n",
    "fname_data1 = folder+'scerevisiae.rsd1.lmbda_22.npz'\n",
    "fname_module1 = folder+'Model_C3F2all.py'\n",
    "fname_p1 = folder+'scerevisiae_good_rsd1_lmbda22_Model_C3F2all_1234_c008090fd8e4b9971fe71eed502c9f7b_best.p'\n",
    "fname_weights1 = folder+'scerevisiae_good_rsd1_lmbda22_Model_C3F2all_1234_c008090fd8e4b9971fe71eed502c9f7b_best'\n",
    "\n",
    "fn6 = 'df_Keren2013_predictions.csv'\n",
    "fn7 = 'df_Yamanishi2013_predictions.csv'\n"
   ]
  },
  {
   "cell_type": "code",
   "execution_count": 5,
   "id": "162f3403-4447-43e1-8d76-75da442f6872",
   "metadata": {},
   "outputs": [],
   "source": [
    "def load_data(fname):\n",
    "    # X is multi-variable array\n",
    "    # Y contains single variable - fix shape for Keras\n",
    "\n",
    "    npzfile = np.load(fname,allow_pickle=True)\n",
    "    Xh_train = npzfile['arr_0']\n",
    "    Xh_test = npzfile['arr_1']\n",
    "    Xv_train = npzfile['arr_2'][:,8:]\n",
    "    Xv_test = npzfile['arr_3'][:,8:]\n",
    "    Y_train = npzfile['arr_4']\n",
    "    Y_test = npzfile['arr_5']\n",
    "    names_train = npzfile['arr_6']\n",
    "    names_test = npzfile['arr_7']\n",
    "\n",
    "    X_train = list()\n",
    "    X_train.append(Xh_train)\n",
    "    #X_train.append(Xv_train)\n",
    "    X_test = list()\n",
    "    X_test.append(Xh_test)\n",
    "    #X_test.append(Xv_test)\n",
    "\n",
    "    Y_train = Y_train.astype(np.float32).reshape((-1,))\n",
    "    Y_test = Y_test.astype(np.float32).reshape((-1,))\n",
    "\n",
    "    return (np.concatenate((Y_train, Y_test)),\n",
    "            np.concatenate((names_train,names_test)),\n",
    "            np.concatenate((Xv_train,Xv_test)))\n",
    "\n",
    "# load modules - POC model\n",
    "def load_module(model_path):\n",
    "    '''loads module containing models given path'''\n",
    "    spec = importlib.util.spec_from_file_location('module',model_path)\n",
    "    module = importlib.util.module_from_spec(spec)\n",
    "    spec.loader.exec_module(module)\n",
    "    return module\n"
   ]
  },
  {
   "cell_type": "code",
   "execution_count": 6,
   "id": "c0945d3e-1586-43ad-815f-df119a3c5d0e",
   "metadata": {},
   "outputs": [
    {
     "name": "stderr",
     "output_type": "stream",
     "text": [
      "2024-04-08 19:12:59.575102: I tensorflow/core/platform/cpu_feature_guard.cc:182] This TensorFlow binary is optimized to use available CPU instructions in performance-critical operations.\n",
      "To enable the following instructions: SSE4.1 SSE4.2 AVX AVX2 AVX512F FMA, in other operations, rebuild TensorFlow with the appropriate compiler flags.\n"
     ]
    },
    {
     "name": "stdout",
     "output_type": "stream",
     "text": [
      "(42,)\n",
      "2\n",
      "425\n"
     ]
    },
    {
     "name": "stderr",
     "output_type": "stream",
     "text": [
      "2024-04-08 19:13:02.220503: I tensorflow/core/common_runtime/process_util.cc:146] Creating new thread pool with default inter op setting: 2. Tune using inter_op_parallelism_threads for best performance.\n"
     ]
    },
    {
     "name": "stdout",
     "output_type": "stream",
     "text": [
      "Loading model 1 from disk..\n"
     ]
    }
   ],
   "source": [
    "## load data and model\n",
    "\n",
    "module = load_module(fname_module1)\n",
    "\n",
    "# load p\n",
    "p = pd.read_csv(fname_p1,sep=';')\n",
    "p = p.iloc[0]\n",
    "p.drop(['path','overfit'],inplace=True)\n",
    "print(p.shape)\n",
    "\n",
    "# load data\n",
    "X_train, X_test, Y_train, Y_test = module.load_data(fname_data1)\n",
    "# Y = np.concatenate((Y_train, Y_test))\n",
    "# X = np.concatenate((X_train[0], X_test[0]))\n",
    "print(len(X_test))\n",
    "print(len(Y_test))\n",
    "\n",
    "# model\n",
    "input_shapes = [sl.shape[1:] for sl in X_train]\n",
    "model = module.POC_model(input_shapes, p)\n",
    "# set weights model 1\n",
    "print(\"Loading model 1 from disk..\")\n",
    "model.load_weights(fname_weights1)\n"
   ]
  },
  {
   "cell_type": "code",
   "execution_count": 7,
   "id": "2d5f5545-a340-4292-88dc-b03a117162fa",
   "metadata": {},
   "outputs": [
    {
     "name": "stdout",
     "output_type": "stream",
     "text": [
      "loaded input\n"
     ]
    }
   ],
   "source": [
    "file_COMBO_npz = \"/home/andy/swap/swapped_70225.npz\"\n",
    "\n",
    "working_npz = np.load(file_COMBO_npz, allow_pickle=True)\n",
    "X_hot = working_npz[\"arr_0\"]\n",
    "X_var = working_npz[\"arr_1\"]\n",
    "\n",
    "current_input = list()\n",
    "current_input.append(X_hot)\n",
    "current_input.append(X_var)\n",
    "\n",
    "print(\"loaded input\")"
   ]
  },
  {
   "cell_type": "code",
   "execution_count": 8,
   "id": "6ffec4ce-56ca-48cb-aa1e-132f87ec4ff1",
   "metadata": {},
   "outputs": [
    {
     "name": "stdout",
     "output_type": "stream",
     "text": [
      "2195/2195 [==============================] - 189s 86ms/step\n",
      "predictions done\n"
     ]
    }
   ],
   "source": [
    "Y_pred = model.predict(current_input)\n",
    "print(\"predictions done\")"
   ]
  },
  {
   "cell_type": "code",
   "execution_count": 9,
   "id": "f9e25ac1-c612-4565-9ccd-1ed23fbf50df",
   "metadata": {},
   "outputs": [
    {
     "name": "stdout",
     "output_type": "stream",
     "text": [
      "saved\n"
     ]
    }
   ],
   "source": [
    "npy_out_file = \"/home/andy/swap/swapped_PREDICTIONS.npy\"\n",
    "np.save(npy_out_file, Y_pred)\n",
    "print(\"saved\")"
   ]
  },
  {
   "cell_type": "code",
   "execution_count": 10,
   "id": "f4400142-241e-4d20-9cd8-63ab604c536f",
   "metadata": {},
   "outputs": [
    {
     "name": "stdout",
     "output_type": "stream",
     "text": [
      "[[10.795016]\n",
      " [10.045161]\n",
      " [ 9.695206]\n",
      " ...\n",
      " [ 9.129368]\n",
      " [ 9.307976]\n",
      " [ 9.201614]]\n"
     ]
    }
   ],
   "source": [
    "test_Y_pred = np.load(npy_out_file, allow_pickle=True)\n",
    "print(test_Y_pred)"
   ]
  },
  {
   "cell_type": "code",
   "execution_count": 11,
   "id": "ba4cfbfd-f622-4c69-abfd-9347b0b0b2b2",
   "metadata": {},
   "outputs": [
    {
     "name": "stdout",
     "output_type": "stream",
     "text": [
      "70225\n"
     ]
    }
   ],
   "source": [
    "print(len(test_Y_pred))"
   ]
  },
  {
   "cell_type": "code",
   "execution_count": null,
   "id": "9ac9bd4b-57f3-4e85-a6ef-4dadebbc8be0",
   "metadata": {},
   "outputs": [],
   "source": []
  }
 ],
 "metadata": {
  "kernelspec": {
   "display_name": "cloned",
   "language": "python",
   "name": "cloned"
  },
  "language_info": {
   "codemirror_mode": {
    "name": "ipython",
    "version": 3
   },
   "file_extension": ".py",
   "mimetype": "text/x-python",
   "name": "python",
   "nbconvert_exporter": "python",
   "pygments_lexer": "ipython3",
   "version": "3.10.13"
  }
 },
 "nbformat": 4,
 "nbformat_minor": 5
}
